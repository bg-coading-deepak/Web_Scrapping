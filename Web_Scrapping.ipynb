{
 "cells": [
  {
   "cell_type": "markdown",
   "id": "d9840da5-6abd-4e8b-9960-000f212262d0",
   "metadata": {},
   "source": [
    "Q1. What is Web Scraping? Why is it Used? Give three areas where Web Scraping is used to get data."
   ]
  },
  {
   "cell_type": "code",
   "execution_count": null,
   "id": "a635c09d-413d-4bf1-9552-f520398cc05b",
   "metadata": {},
   "outputs": [],
   "source": [
    ">>Web scraping is an automatic method to obtain large amounts of data from websites.\n",
    "Most of this data is unstructured data in an HTML format which is then converted into structured data in a spreadsheet\n",
    "or a database so that it can be used in various applications.\n",
    "\n",
    ">> Web scraping is used in a variety of digital businesses that rely on data harvesting.\n",
    "Legitimate use cases include: Search engine bots crawling a site, analyzing its content and then ranking it.\n",
    "Price comparison sites deploying bots to auto-fetch prices and product descriptions for allied seller websites.\n",
    "\n",
    ">>E-commerse\n",
    ">>Marketing\n",
    ">>Machine Learning"
   ]
  },
  {
   "cell_type": "markdown",
   "id": "490e7b72-efbe-493e-b5c6-4728a0768308",
   "metadata": {},
   "source": [
    "Q2. What are the different methods used for Web Scraping?"
   ]
  },
  {
   "cell_type": "code",
   "execution_count": null,
   "id": "87adc5fe-f1e2-4277-a416-b5fda93fca47",
   "metadata": {},
   "outputs": [],
   "source": [
    "> Document load\n",
    "> Parsing\n",
    "> Extraction\n",
    "> Transformation"
   ]
  },
  {
   "cell_type": "markdown",
   "id": "f68c8ed6-d882-4af6-a268-330ad7d883f2",
   "metadata": {},
   "source": [
    "Q3. What is Beautiful Soup? Why is it used?"
   ]
  },
  {
   "cell_type": "code",
   "execution_count": null,
   "id": "b5550387-ccd7-46e1-b1e7-6bfe6fea55b6",
   "metadata": {},
   "outputs": [],
   "source": [
    ">> Beautiful Soup provides simple methods for navigating, searching, and modifying a parse tree in HTML, XML files.\n",
    "    It transforms a complex HTML document into a tree of Python objects.\n",
    "    It also automatically converts the document to Unicode, so you don't have to think about encodings."
   ]
  },
  {
   "cell_type": "markdown",
   "id": "e3b6d2b2-da08-458e-96b8-5ff24307865e",
   "metadata": {},
   "source": [
    "Q4. Why is flask used in this Web Scraping project?"
   ]
  },
  {
   "cell_type": "code",
   "execution_count": null,
   "id": "db1a3ce6-3df3-4a89-9acf-ab00ae7dacd1",
   "metadata": {},
   "outputs": [],
   "source": [
    ">>Flask is a lightweight framework to build websites.\n",
    "We'll use this to parse our collected data and display it as HTML in a new HTML file.\n",
    "The requests module allows us to send http requests to the website we want to scrape.\n",
    "The first line imports the Flask class and the render_template method from the flask library."
   ]
  },
  {
   "cell_type": "markdown",
   "id": "b1e3e5e9-a47b-4e09-8eaf-45fe4754aa3a",
   "metadata": {},
   "source": [
    "Q5. Write the names of AWS services used in this project. Also, explain the use of each service."
   ]
  },
  {
   "cell_type": "code",
   "execution_count": null,
   "id": "2c22ef92-c8c4-426f-ba8b-bf71a43de0df",
   "metadata": {},
   "outputs": [],
   "source": [
    ">AWS Cloud Products\n",
    "\n",
    "Compute.\n",
    "Storage.\n",
    "Database.\n",
    "Networking & Content Delivery.\n",
    "Analytics.\n",
    "Machine Learning.\n",
    "Security, Identity, & Compliance."
   ]
  }
 ],
 "metadata": {
  "kernelspec": {
   "display_name": "Python 3 (ipykernel)",
   "language": "python",
   "name": "python3"
  },
  "language_info": {
   "codemirror_mode": {
    "name": "ipython",
    "version": 3
   },
   "file_extension": ".py",
   "mimetype": "text/x-python",
   "name": "python",
   "nbconvert_exporter": "python",
   "pygments_lexer": "ipython3",
   "version": "3.10.8"
  }
 },
 "nbformat": 4,
 "nbformat_minor": 5
}
